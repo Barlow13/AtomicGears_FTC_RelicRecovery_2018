{
  "cells": [
    {
      "cell_type": "markdown",
      "metadata": {
        "id": "t6AQhpPfhk6C"
      },
      "source": [
        "[![Open In Colab](https://colab.research.google.com/assets/colab-badge.svg)](https://colab.research.google.com/github/NNDesignDeepLearning/NNDesignDeepLearning/blob/master/06.TensorFlowIntroChapter/Code/LabSolutions/TensorFlowIntroLab1_Solution.ipynb)"
      ]
    },
    {
      "cell_type": "markdown",
      "metadata": {
        "id": "82N9efochk6F"
      },
      "source": [
        "# TensorFlow Introduction Lab 1 -- Getting Started\n",
        "\n",
        "This objective of this TensorFlow lab is to help you become familiar with the basics of using TensorFlow to load data, create multilayer networks, train the networks and display the results. If you haven't already done so, run the cells in the `TensorFlowIntroChapter.ipynb` Jupyter Notebook to prepare for this lab.\n",
        "\n",
        "Some of the cells in this notebook are prefilled with working code. In addition, there will be cells with missing code (labeled `# TODO`), which you will need to complete. If you need additional cells, you can use the `Insert` menu at the top of the page.\n",
        "\n",
        "## Loading Modules\n",
        "\n",
        "We begin by loading some useful modules."
      ]
    },
    {
      "cell_type": "code",
      "execution_count": 2,
      "metadata": {
        "id": "-3AlR3p5hk6F"
      },
      "outputs": [],
      "source": [
        "%matplotlib inline\n",
        "import matplotlib.pyplot as plt\n",
        "import numpy as np\n",
        "from tensorflow.keras.utils import to_categorical\n",
        "from tensorflow.keras import models\n",
        "from tensorflow.keras import layers\n",
        "from tensorflow.data import Dataset\n",
        "from tensorflow.keras import datasets"
      ]
    },
    {
      "cell_type": "markdown",
      "metadata": {
        "id": "6aSMga8khk6G"
      },
      "source": [
        "# Loading Data\n",
        "\n",
        "For this lab we will use a famous data set -- MNIST. This is a large database of handwritten digits. It contains 60,000 training images and 10,000 testing images. Each image consists of arrays of 28x28 pixels. The original website for the data, which describes the dataset in detail, and records accuracies using various machine learning strategies, can be found [here](http://yann.lecun.com/exdb/mnist/). The data set can be accessed easily using `tensorflow.keras.datasets`, as illustrated in the next cell."
      ]
    },
    {
      "cell_type": "code",
      "execution_count": 3,
      "metadata": {
        "id": "t3UoBHSShk6G",
        "outputId": "92da097b-5d06-4a73-ce78-480a43316a71",
        "colab": {
          "base_uri": "https://localhost:8080/"
        }
      },
      "outputs": [
        {
          "output_type": "stream",
          "name": "stdout",
          "text": [
            "Downloading data from https://storage.googleapis.com/tensorflow/tf-keras-datasets/mnist.npz\n",
            "\u001b[1m11490434/11490434\u001b[0m \u001b[32m━━━━━━━━━━━━━━━━━━━━\u001b[0m\u001b[37m\u001b[0m \u001b[1m0s\u001b[0m 0us/step\n"
          ]
        }
      ],
      "source": [
        "(p_train, t_train), (p_test, t_test) = datasets.mnist.load_data()"
      ]
    },
    {
      "cell_type": "markdown",
      "metadata": {
        "id": "4HhZg9hLhk6G"
      },
      "source": [
        "In the next cell, check the sizes of the arrays."
      ]
    },
    {
      "cell_type": "code",
      "execution_count": 4,
      "metadata": {
        "id": "EcnGDx7hhk6G",
        "outputId": "647dc58e-ae3b-4dc7-8701-2337e162ba84",
        "colab": {
          "base_uri": "https://localhost:8080/"
        }
      },
      "outputs": [
        {
          "output_type": "stream",
          "name": "stdout",
          "text": [
            "47040000\n",
            "60000\n",
            "7840000\n",
            "10000\n"
          ]
        }
      ],
      "source": [
        "print(np.size(p_train))\n",
        "print(np.size(t_train))\n",
        "print(np.size(p_test))\n",
        "print(np.size(t_test))"
      ]
    },
    {
      "cell_type": "markdown",
      "metadata": {
        "id": "g2B47Txuhk6H"
      },
      "source": [
        "Let's take a look at one of the input images in the training set."
      ]
    },
    {
      "cell_type": "code",
      "execution_count": 5,
      "metadata": {
        "id": "LLR_ufOhhk6H",
        "outputId": "b650f610-160d-4442-d092-3f3db6c9adb7",
        "colab": {
          "base_uri": "https://localhost:8080/",
          "height": 448
        }
      },
      "outputs": [
        {
          "output_type": "execute_result",
          "data": {
            "text/plain": [
              "<matplotlib.image.AxesImage at 0x784b9fcf75d0>"
            ]
          },
          "metadata": {},
          "execution_count": 5
        },
        {
          "output_type": "display_data",
          "data": {
            "text/plain": [
              "<Figure size 640x480 with 1 Axes>"
            ],
            "image/png": "[encoded data removed]"
          },
          "metadata": {}
        }
      ],
      "source": [
        "plt.imshow(p_train[0], cmap='gray')"
      ]
    },
    {
      "cell_type": "markdown",
      "metadata": {
        "id": "EUQdBmishk6H"
      },
      "source": [
        "What digit is this supposed to be? Check the corresponding target value in the next cell."
      ]
    },
    {
      "cell_type": "code",
      "execution_count": null,
      "metadata": {
        "id": "qntaJ02Thk6H"
      },
      "outputs": [],
      "source": [
        "print()"
      ]
    },
    {
      "cell_type": "markdown",
      "metadata": {
        "id": "M2KyUTluhk6H"
      },
      "source": [
        "The targets are represented as integers 0 through 9. We need to perform a one-hot encoding of the targets, so that they can be used for network training. Use the `to_categorical` method to do the conversion on training and testing targets."
      ]
    },
    {
      "cell_type": "code",
      "execution_count": null,
      "metadata": {
        "id": "EcKHgEaThk6H"
      },
      "outputs": [],
      "source": [
        "t_train = #TODO\n",
        "t_test = #TODO"
      ]
    },
    {
      "cell_type": "markdown",
      "metadata": {
        "id": "YviGIEschk6I"
      },
      "source": [
        "Check the conversion."
      ]
    },
    {
      "cell_type": "code",
      "execution_count": null,
      "metadata": {
        "id": "zEvz6lPvhk6I"
      },
      "outputs": [],
      "source": [
        "print(t_train[0])"
      ]
    },
    {
      "cell_type": "markdown",
      "metadata": {
        "id": "g_JPuZ05hk6I"
      },
      "source": [
        "It is also useful to normalize the inputs. In this case, the maximum pixel values in the images is 255, so a simple normalization is to divide all inputs by 255.0, so that inputs will range from 0 to 1. Perform that normalization on the training and testing inputs in the next cell."
      ]
    },
    {
      "cell_type": "code",
      "execution_count": null,
      "metadata": {
        "id": "jrhGrvD5hk6I"
      },
      "outputs": [],
      "source": [
        "p_train = #TODO\n",
        "p_test = #TODO"
      ]
    },
    {
      "cell_type": "markdown",
      "metadata": {
        "id": "Bvhy5SM9hk6I"
      },
      "source": [
        "Put the training and testing data into two TensorFlow Datasets using `Dataset.from_tensor_slices()`."
      ]
    },
    {
      "cell_type": "code",
      "execution_count": null,
      "metadata": {
        "id": "8e2PYjbKhk6I"
      },
      "outputs": [],
      "source": [
        "train_dataset = #TODO\n",
        "test_dataset = #TODO"
      ]
    },
    {
      "cell_type": "markdown",
      "metadata": {
        "id": "ZcMae0-3hk6I"
      },
      "source": [
        "Group the data in the training and testing datasets into minibatches of size 100, using the `batch()` method."
      ]
    },
    {
      "cell_type": "code",
      "execution_count": null,
      "metadata": {
        "id": "77MQ5N6Phk6I"
      },
      "outputs": [],
      "source": [
        "train_dataset = #TODO\n",
        "test_dataset = #TODO"
      ]
    },
    {
      "cell_type": "markdown",
      "metadata": {
        "id": "ZUF8-8Q8hk6J"
      },
      "source": [
        "# Constructing the Model\n",
        "\n",
        "Now that the data is loaded, the next step is to construct the model. Create a method that uses the sequential class to construct a multilayer network with three layers and returns the constructed model. To begin, use 10 neurons in each layer. For the first two `Dense` layers, use the relu activation function, and use the softmax activation function in the third `Dense` layer. Note that because the training inputs are 28x28 arrays, we need to convert them to vectors before going into the first `Dense` layer. This can be done with `layers.Flatten()`. Make this the first component of the network."
      ]
    },
    {
      "cell_type": "code",
      "execution_count": null,
      "metadata": {
        "id": "b1CbXN1uhk6J"
      },
      "outputs": [],
      "source": [
        "def make_model():\n",
        "    model = models.Sequential()\n",
        "    #TODO\n",
        "    return model"
      ]
    },
    {
      "cell_type": "markdown",
      "metadata": {
        "id": "NLOI56uihk6J"
      },
      "source": [
        "Use the method you just created to construct a model."
      ]
    },
    {
      "cell_type": "code",
      "execution_count": null,
      "metadata": {
        "id": "w8vTNo_Mhk6J"
      },
      "outputs": [],
      "source": [
        "model1 = make_model()"
      ]
    },
    {
      "cell_type": "markdown",
      "metadata": {
        "id": "k7neddGghk6J"
      },
      "source": [
        "After constructing the model, you can display a summary with the `summary()` method."
      ]
    },
    {
      "cell_type": "code",
      "execution_count": null,
      "metadata": {
        "id": "zD4RtEX-hk6J"
      },
      "outputs": [],
      "source": [
        "model1.summary()"
      ]
    },
    {
      "cell_type": "markdown",
      "metadata": {
        "id": "0LBcct0Fhk6J"
      },
      "source": [
        "# Training the Network\n",
        "\n",
        "The first step in training the network is to compile the network. This assigns the training function and the performance (loss) function. Use `adam` as the training function and `categorical_crossentropy` as the loss function. When compiling, you can also specify that certain metrics be saved during training. Metrics are often measures of performance that are not explicitly optimized. Add `metrics=['accuracy']` to the compile step to save accuracy during training.\n",
        "\n",
        "Compile the model."
      ]
    },
    {
      "cell_type": "code",
      "execution_count": null,
      "metadata": {
        "id": "p-ZsHVvMhk6J"
      },
      "outputs": [],
      "source": [
        "model1.compile(#TODO)"
      ]
    },
    {
      "cell_type": "markdown",
      "metadata": {
        "id": "N27jSKtMhk6K"
      },
      "source": [
        "Now use `model.fit` to train the network.  Pass the training Dataset and assign epochs to 100."
      ]
    },
    {
      "cell_type": "code",
      "execution_count": null,
      "metadata": {
        "id": "XZiy9q3Mhk6K"
      },
      "outputs": [],
      "source": [
        "history = model1.fit(#TODO)"
      ]
    },
    {
      "cell_type": "markdown",
      "metadata": {
        "id": "gpka57VYhk6K"
      },
      "source": [
        "Plot the training accuracy vs. epochs. The accuracy is stored in the `history.history` dictionary with key `'accuracy'`."
      ]
    },
    {
      "cell_type": "code",
      "execution_count": null,
      "metadata": {
        "id": "WyHfc3gfhk6K"
      },
      "outputs": [],
      "source": [
        "history_dict = history.history\n",
        "acc = history_dict['accuracy']\n",
        "epochs = history.epoch\n",
        "plt.plot(epochs, acc)\n",
        "plt.title('Training Accuracy')\n",
        "plt.xlabel('Epochs')\n",
        "plt.show()"
      ]
    },
    {
      "cell_type": "markdown",
      "metadata": {
        "id": "Q1ysL5b2hk6K"
      },
      "source": [
        "# Evaluate the Trained Model\n",
        "\n",
        "We can use the evaluate method on the testing data to see how well the model will generalize."
      ]
    },
    {
      "cell_type": "code",
      "execution_count": null,
      "metadata": {
        "id": "Msbpg1wChk6L"
      },
      "outputs": [],
      "source": [
        "score = model1.evaluate(test_dataset, verbose=0)\n",
        "print(\"Test loss:\", score[0])\n",
        "print(\"Test accuracy:\", score[1])"
      ]
    },
    {
      "cell_type": "markdown",
      "metadata": {
        "id": "JEKvHD0ahk6L"
      },
      "source": [
        "# Using Callbacks\n",
        "\n",
        "When using the fit method, it is possible to assign **callbacks**, which perform certain opertions during the training process. You can find more about callbacks [here](https://keras.io/api/callbacks/) and [here](https://www.tensorflow.org/api_docs/python/tf/keras/callbacks).\n",
        "\n",
        "You will remember from the Python Lab 1 that we built a learning rate method that updated the learning rate during the training process. We can do the same thing in TensorFlow using the `LearningRateScheduler` callback.\n",
        "\n",
        "First, let's define the same learning rate schedule class that we used in the Python Lab 1."
      ]
    },
    {
      "cell_type": "code",
      "execution_count": null,
      "metadata": {
        "id": "4lzfVFv8hk6L"
      },
      "outputs": [],
      "source": [
        "class lr_inc_dec:\n",
        "    def __init__(self, lr_0=0.001, lr_0_steps=5, lr_max = 0.005, lr_max_steps = 5, lr_min=0.0005, lr_decay=0.9):\n",
        "        self.lr_0         = lr_0\n",
        "        self.lr_max       = lr_max\n",
        "        self.lr_0_steps   = lr_0_steps\n",
        "        self.lr_max_steps = lr_max_steps\n",
        "        self.lr_min       = lr_min\n",
        "        self.lr_decay     = lr_decay\n",
        "\n",
        "    def __call__(self, epoch):\n",
        "        if epoch < self.lr_0_steps:\n",
        "            self.lr = self.lr_0 + (self.lr_max - self.lr_0)*epoch/self.lr_0_steps\n",
        "        elif epoch < self.lr_0_steps + self.lr_max_steps:\n",
        "            self.lr = self.lr_max\n",
        "        else:\n",
        "            self.lr = self.lr_min + (self.lr_max - self.lr_min)*self.lr_decay**(epoch - self.lr_0_steps - self.lr_max_steps)\n",
        "\n",
        "        return self.lr"
      ]
    },
    {
      "cell_type": "code",
      "execution_count": null,
      "metadata": {
        "id": "EJEdhKwvhk6L"
      },
      "outputs": [],
      "source": [
        "lr_scheduler = lr_inc_dec(lr_0=0.0005, lr_0_steps=10, lr_max = 0.002, lr_max_steps = 5, lr_min=0.001, lr_decay=0.95)"
      ]
    },
    {
      "cell_type": "markdown",
      "metadata": {
        "id": "-9bknAjShk6M"
      },
      "source": [
        "Now import the `LearningRateScheduler` from `tensorflow.keras.callbacks`."
      ]
    },
    {
      "cell_type": "code",
      "execution_count": null,
      "metadata": {
        "id": "mcOEzMK7hk6M"
      },
      "outputs": [],
      "source": [
        "from tensorflow.keras.callbacks import LearningRateScheduler"
      ]
    },
    {
      "cell_type": "markdown",
      "metadata": {
        "id": "oDWSs65chk6M"
      },
      "source": [
        "To access the scheduler during training, we add the following argument to the fit method: `callbacks=[]`, where inside the braces is a list of callbacks. In this case, there is only one callback, which should be `LearningRateScheduler(lr_scheduler, verbose=1)`. Here we have passed the scheduler we defined into the `LearningRateScheduler`. By using `verbose=1`, we can monitor the progress of the learning rate during training.\n",
        "\n",
        "Make a new model."
      ]
    },
    {
      "cell_type": "code",
      "execution_count": null,
      "metadata": {
        "id": "47isaUNghk6N"
      },
      "outputs": [],
      "source": [
        "model2 = make_model()"
      ]
    },
    {
      "cell_type": "markdown",
      "metadata": {
        "id": "MYWqFKFrhk6N"
      },
      "source": [
        "Compile the model, with the adam optimizer, categorical_crossentropy loss and accuracy metric."
      ]
    },
    {
      "cell_type": "code",
      "execution_count": null,
      "metadata": {
        "id": "Axrmt1ufhk6N"
      },
      "outputs": [],
      "source": [
        "model2.compile(#TODO)"
      ]
    },
    {
      "cell_type": "markdown",
      "metadata": {
        "id": "wOEd6nJBhk6N"
      },
      "source": [
        "Train the model with the `fit` method for 100 epochs, and use the `LearningRateScheduler` callback."
      ]
    },
    {
      "cell_type": "code",
      "execution_count": null,
      "metadata": {
        "scrolled": true,
        "id": "95iAJYzzhk6N"
      },
      "outputs": [],
      "source": [
        "history = model2.fit(#TODO)"
      ]
    },
    {
      "cell_type": "markdown",
      "metadata": {
        "id": "lXOGONuahk6O"
      },
      "source": [
        "Evaluate the new model on the test set."
      ]
    },
    {
      "cell_type": "code",
      "execution_count": null,
      "metadata": {
        "scrolled": true,
        "id": "6SSZVGg4hk6O"
      },
      "outputs": [],
      "source": [
        "score2 = model2.evaluate(test_dataset, verbose=0)\n",
        "print(\"Test loss:\", score2[0])\n",
        "print(\"Test accuracy:\", score2[1])"
      ]
    },
    {
      "cell_type": "markdown",
      "metadata": {
        "id": "z4JxIHKqhk6O"
      },
      "source": [
        "# Experimenting With Architectures\n",
        "\n",
        "Try different network architectures to see if you can improve the performance. To make this easier, modify the `make_model()` function so that you can vary the number of layers and the number of neurons in each layer. Pass a list into the function that has the number of neurons in each hidden layer. The last (`softmax`) layer always has 10 neurons."
      ]
    },
    {
      "cell_type": "code",
      "execution_count": null,
      "metadata": {
        "id": "4BOBq2gIhk6O"
      },
      "outputs": [],
      "source": [
        "def make_model(num_neurons):\n",
        "    #TODO\n",
        "    return model"
      ]
    },
    {
      "cell_type": "markdown",
      "metadata": {
        "id": "c3k4uoaOhk6O"
      },
      "source": [
        "Make a network with five hidden layers of 10 neurons, compile it with the `adam` optimizer, `categorical_crossentropy` loss and `accuracy` metric. Then train it with the default learning rate (no callbacks) for 100 epochs."
      ]
    },
    {
      "cell_type": "code",
      "execution_count": null,
      "metadata": {
        "id": "FRVzAouMhk6O"
      },
      "outputs": [],
      "source": [
        "model3 = #TODO\n",
        "model3.compile(#TODO)\n",
        "history = model3.fit(#TODO)"
      ]
    },
    {
      "cell_type": "markdown",
      "metadata": {
        "id": "Yd6ro1jRhk6O"
      },
      "source": [
        "Plot the training accuracy vs epochs."
      ]
    },
    {
      "cell_type": "code",
      "execution_count": null,
      "metadata": {
        "id": "OCFigQ9Ihk6O"
      },
      "outputs": [],
      "source": [
        "history_dict = history.history\n",
        "acc = history_dict['accuracy']\n",
        "epochs = history.epoch\n",
        "plt.plot(epochs, acc)\n",
        "plt.title('Training Accuracy')\n",
        "plt.xlabel('Epochs')\n",
        "plt.show()"
      ]
    },
    {
      "cell_type": "markdown",
      "metadata": {
        "id": "H-beSNkUhk6O"
      },
      "source": [
        "Based on your plot, do you think the accuracy will increase, if you  train the network longer?"
      ]
    },
    {
      "cell_type": "markdown",
      "metadata": {
        "id": "lpMVYRnQhk6P"
      },
      "source": [
        "Now evaluate the model on the test set."
      ]
    },
    {
      "cell_type": "code",
      "execution_count": null,
      "metadata": {
        "id": "e3yKU1zZhk6P"
      },
      "outputs": [],
      "source": [
        "score3 = model3.evaluate(test_dataset, verbose=0)\n",
        "print(\"Test loss:\", score3[0])\n",
        "print(\"Test accuracy:\", score3[1])"
      ]
    },
    {
      "cell_type": "markdown",
      "metadata": {
        "id": "jGFxTBgOhk6P"
      },
      "source": [
        "How does the test accuracy compare to the training accuracy? Is the network overfitting, or can you improve the accuracy by adding neurons or layers to the network?"
      ]
    },
    {
      "cell_type": "markdown",
      "metadata": {
        "id": "Q-R18H_Vhk6P"
      },
      "source": [
        "## Explore Further\n",
        "\n",
        "Experiment with different network architectures. Try to find the architecture that gives you the best accuracy. Investigate the following.\n",
        "\n",
        "1. Increase the number of neurons in each layer. How do training and testing accuracy change?\n",
        "1. Increase the number of layers. Does the training (testing) accuracy continue to decrease? How high can you make the testing accuracy? Do you get better results increasing the number of neurons in each layer, or the number of layers (assuming the overal number of weights stays the same)?\n",
        "1. Train a network twice without changing the architecture. (Be sure to remake the network each time.) Do you acheive the same accuracy? If not, explain why the accuracy is different.\n",
        "1. Experiment with different optimizers and different learning rates.\n",
        "1. Experiment with different batch sizes.\n",
        "1. Increase the number of epochs, and plot the training accuracy. Use the plot to determine whether or not you should  increase the number of epochs further."
      ]
    }
  ],
  "metadata": {
    "kernelspec": {
      "display_name": "Python 3",
      "language": "python",
      "name": "python3"
    },
    "language_info": {
      "codemirror_mode": {
        "name": "ipython",
        "version": 3
      },
      "file_extension": ".py",
      "mimetype": "text/x-python",
      "name": "python",
      "nbconvert_exporter": "python",
      "pygments_lexer": "ipython3",
      "version": "3.6.9"
    },
    "colab": {
      "provenance": []
    }
  },
  "nbformat": 4,
  "nbformat_minor": 0
}