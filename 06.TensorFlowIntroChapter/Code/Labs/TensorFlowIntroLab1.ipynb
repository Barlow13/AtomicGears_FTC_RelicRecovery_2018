{
  "cells": [
    {
      "cell_type": "markdown",
      "metadata": {
        "id": "ljWo50oJyTRQ"
      },
      "source": [
        "[![Open In Colab](https://colab.research.google.com/assets/colab-badge.svg)](https://colab.research.google.com/github/NNDesignDeepLearning/NNDesignDeepLearning/blob/master/06.TensorFlowIntroChapter/Code/LabSolutions/TensorFlowIntroLab1_Solution.ipynb)"
      ]
    },
    {
      "cell_type": "markdown",
      "metadata": {
        "id": "saG4nPbuyTRQ"
      },
      "source": [
        "# TensorFlow Introduction Lab 1 -- Getting Started\n",
        "\n",
        "This objective of this TensorFlow lab is to help you become familiar with the basics of using TensorFlow to load data, create multilayer networks, train the networks and display the results. If you haven't already done so, run the cells in the `TensorFlowIntroChapter.ipynb` Jupyter Notebook to prepare for this lab.\n",
        "\n",
        "Some of the cells in this notebook are prefilled with working code. In addition, there will be cells with missing code (labeled `# TODO`), which you will need to complete. If you need additional cells, you can use the `Insert` menu at the top of the page.\n",
        "\n",
        "## Loading Modules\n",
        "\n",
        "We begin by loading some useful modules."
      ]
    },
    {
      "cell_type": "code",
      "execution_count": 1,
      "metadata": {
        "id": "FRfD-Dz5yTRR"
      },
      "outputs": [],
      "source": [
        "%matplotlib inline\n",
        "import matplotlib.pyplot as plt\n",
        "import numpy as np\n",
        "from tensorflow.keras.utils import to_categorical\n",
        "from tensorflow.keras import models\n",
        "from tensorflow.keras import layers\n",
        "from tensorflow.data import Dataset\n",
        "from tensorflow.keras import datasets"
      ]
    },
    {
      "cell_type": "markdown",
      "metadata": {
        "id": "tHjfrGvByTRR"
      },
      "source": [
        "# Loading Data\n",
        "\n",
        "For this lab we will use a famous data set -- MNIST. This is a large database of handwritten digits. It contains 60,000 training images and 10,000 testing images. Each image consists of arrays of 28x28 pixels. The original website for the data, which describes the dataset in detail, and records accuracies using various machine learning strategies, can be found [here](http://yann.lecun.com/exdb/mnist/). The data set can be accessed easily using `tensorflow.keras.datasets`, as illustrated in the next cell."
      ]
    },
    {
      "cell_type": "code",
      "execution_count": 2,
      "metadata": {
        "id": "WnUaMj6xyTRS",
        "outputId": "c5c4ae63-7bd6-4d37-c9db-2d2ed2e484bf",
        "colab": {
          "base_uri": "https://localhost:8080/"
        }
      },
      "outputs": [
        {
          "output_type": "stream",
          "name": "stdout",
          "text": [
            "Downloading data from https://storage.googleapis.com/tensorflow/tf-keras-datasets/mnist.npz\n",
            "\u001b[1m11490434/11490434\u001b[0m \u001b[32m━━━━━━━━━━━━━━━━━━━━\u001b[0m\u001b[37m\u001b[0m \u001b[1m0s\u001b[0m 0us/step\n"
          ]
        }
      ],
      "source": [
        "(p_train, t_train), (p_test, t_test) = datasets.mnist.load_data()"
      ]
    },
    {
      "cell_type": "markdown",
      "metadata": {
        "id": "88q-GcZEyTRS"
      },
      "source": [
        "In the next cell, check the sizes of the arrays."
      ]
    },
    {
      "cell_type": "code",
      "execution_count": 3,
      "metadata": {
        "id": "7WxXR5DgyTRS",
        "outputId": "384093e1-dcdb-4e98-f560-55958359297d",
        "colab": {
          "base_uri": "https://localhost:8080/"
        }
      },
      "outputs": [
        {
          "output_type": "stream",
          "name": "stdout",
          "text": [
            "47040000\n",
            "60000\n",
            "7840000\n",
            "10000\n"
          ]
        }
      ],
      "source": [
        "print(np.size(p_train))\n",
        "print(np.size(t_train))\n",
        "print(np.size(p_test))\n",
        "print(np.size(t_test))"
      ]
    },
    {
      "cell_type": "markdown",
      "metadata": {
        "id": "JFmmdxOryTRS"
      },
      "source": [
        "Let's take a look at one of the input images in the training set."
      ]
    },
    {
      "cell_type": "code",
      "execution_count": 4,
      "metadata": {
        "id": "oWCDB8pZyTRS",
        "outputId": "a5a0dbbe-5ad4-46aa-b073-7adfae1076bd",
        "colab": {
          "base_uri": "https://localhost:8080/",
          "height": 448
        }
      },
      "outputs": [
        {
          "output_type": "execute_result",
          "data": {
            "text/plain": [
              "<matplotlib.image.AxesImage at 0x7a5291d8d7d0>"
            ]
          },
          "metadata": {},
          "execution_count": 4
        },
        {
          "output_type": "display_data",
          "data": {
            "text/plain": [
              "<Figure size 640x480 with 1 Axes>"
            ],
            "image/png": "[encoded data removed]"
          },
          "metadata": {}
        }
      ],
      "source": [
        "plt.imshow(p_train[0], cmap='gray')"
      ]
    },
    {
      "cell_type": "markdown",
      "metadata": {
        "id": "zMs_OkNDyTRS"
      },
      "source": [
        "What digit is this supposed to be? Check the corresponding target value in the next cell."
      ]
    },
    {
      "cell_type": "code",
      "execution_count": null,
      "metadata": {
        "id": "cqC3rJP0yTRT"
      },
      "outputs": [],
      "source": [
        "print(#TODO)"
      ]
    },
    {
      "cell_type": "markdown",
      "metadata": {
        "id": "EJ5DldV5yTRT"
      },
      "source": [
        "The targets are represented as integers 0 through 9. We need to perform a one-hot encoding of the targets, so that they can be used for network training. Use the `to_categorical` method to do the conversion on training and testing targets."
      ]
    },
    {
      "cell_type": "code",
      "execution_count": null,
      "metadata": {
        "id": "u-DSxAG4yTRT"
      },
      "outputs": [],
      "source": [
        "t_train = #TODO\n",
        "t_test = #TODO"
      ]
    },
    {
      "cell_type": "markdown",
      "metadata": {
        "id": "kpAuil4oyTRT"
      },
      "source": [
        "Check the conversion."
      ]
    },
    {
      "cell_type": "code",
      "execution_count": null,
      "metadata": {
        "id": "mMx6JRuIyTRT"
      },
      "outputs": [],
      "source": [
        "print(t_train[0])"
      ]
    },
    {
      "cell_type": "markdown",
      "metadata": {
        "id": "d6h2WU0myTRU"
      },
      "source": [
        "It is also useful to normalize the inputs. In this case, the maximum pixel values in the images is 255, so a simple normalization is to divide all inputs by 255.0, so that inputs will range from 0 to 1. Perform that normalization on the training and testing inputs in the next cell."
      ]
    },
    {
      "cell_type": "code",
      "execution_count": null,
      "metadata": {
        "id": "U4IBo-jMyTRU"
      },
      "outputs": [],
      "source": [
        "p_train = #TODO\n",
        "p_test = #TODO"
      ]
    },
    {
      "cell_type": "markdown",
      "metadata": {
        "id": "oN96j2PxyTRU"
      },
      "source": [
        "Put the training and testing data into two TensorFlow Datasets using `Dataset.from_tensor_slices()`."
      ]
    },
    {
      "cell_type": "code",
      "execution_count": null,
      "metadata": {
        "id": "oxPFZP4lyTRU"
      },
      "outputs": [],
      "source": [
        "train_dataset = #TODO\n",
        "test_dataset = #TODO"
      ]
    },
    {
      "cell_type": "markdown",
      "metadata": {
        "id": "ERLIhteyyTRU"
      },
      "source": [
        "Group the data in the training and testing datasets into minibatches of size 100, using the `batch()` method."
      ]
    },
    {
      "cell_type": "code",
      "execution_count": null,
      "metadata": {
        "id": "8axU34MeyTRU"
      },
      "outputs": [],
      "source": [
        "train_dataset = #TODO\n",
        "test_dataset = #TODO"
      ]
    },
    {
      "cell_type": "markdown",
      "metadata": {
        "id": "qrg3s0r_yTRV"
      },
      "source": [
        "# Constructing the Model\n",
        "\n",
        "Now that the data is loaded, the next step is to construct the model. Create a method that uses the sequential class to construct a multilayer network with three layers and returns the constructed model. To begin, use 10 neurons in each layer. For the first two `Dense` layers, use the relu activation function, and use the softmax activation function in the third `Dense` layer. Note that because the training inputs are 28x28 arrays, we need to convert them to vectors before going into the first `Dense` layer. This can be done with `layers.Flatten()`. Make this the first component of the network."
      ]
    },
    {
      "cell_type": "code",
      "execution_count": null,
      "metadata": {
        "id": "uJnOUmr6yTRV"
      },
      "outputs": [],
      "source": [
        "def make_model():\n",
        "    model = models.Sequential()\n",
        "    #TODO\n",
        "    return model"
      ]
    },
    {
      "cell_type": "markdown",
      "metadata": {
        "id": "LOG625liyTRV"
      },
      "source": [
        "Use the method you just created to construct a model."
      ]
    },
    {
      "cell_type": "code",
      "execution_count": null,
      "metadata": {
        "id": "LT_sAPUzyTRV"
      },
      "outputs": [],
      "source": [
        "model1 = make_model()"
      ]
    },
    {
      "cell_type": "markdown",
      "metadata": {
        "id": "h3q8tfukyTRW"
      },
      "source": [
        "After constructing the model, you can display a summary with the `summary()` method."
      ]
    },
    {
      "cell_type": "code",
      "execution_count": null,
      "metadata": {
        "id": "kmiwgMWmyTRW"
      },
      "outputs": [],
      "source": [
        "model1.summary()"
      ]
    },
    {
      "cell_type": "markdown",
      "metadata": {
        "id": "CRmaXRGIyTRW"
      },
      "source": [
        "# Training the Network\n",
        "\n",
        "The first step in training the network is to compile the network. This assigns the training function and the performance (loss) function. Use `adam` as the training function and `categorical_crossentropy` as the loss function. When compiling, you can also specify that certain metrics be saved during training. Metrics are often measures of performance that are not explicitly optimized. Add `metrics=['accuracy']` to the compile step to save accuracy during training.\n",
        "\n",
        "Compile the model."
      ]
    },
    {
      "cell_type": "code",
      "execution_count": null,
      "metadata": {
        "id": "KVk7P9OYyTRW"
      },
      "outputs": [],
      "source": [
        "model1.compile(#TODO)"
      ]
    },
    {
      "cell_type": "markdown",
      "metadata": {
        "id": "EtKrEQJPyTRW"
      },
      "source": [
        "Now use `model.fit` to train the network.  Pass the training Dataset and assign epochs to 100."
      ]
    },
    {
      "cell_type": "code",
      "execution_count": null,
      "metadata": {
        "id": "q3V5BcFIyTRW"
      },
      "outputs": [],
      "source": [
        "history = model1.fit(#TODO)"
      ]
    },
    {
      "cell_type": "markdown",
      "metadata": {
        "id": "neFpU05HyTRW"
      },
      "source": [
        "Plot the training accuracy vs. epochs. The accuracy is stored in the `history.history` dictionary with key `'accuracy'`."
      ]
    },
    {
      "cell_type": "code",
      "execution_count": null,
      "metadata": {
        "id": "QMr1d5YFyTRW"
      },
      "outputs": [],
      "source": [
        "history_dict = history.history\n",
        "acc = history_dict['accuracy']\n",
        "epochs = history.epoch\n",
        "plt.plot(epochs, acc)\n",
        "plt.title('Training Accuracy')\n",
        "plt.xlabel('Epochs')\n",
        "plt.show()"
      ]
    },
    {
      "cell_type": "markdown",
      "metadata": {
        "id": "sfHFvaROyTRW"
      },
      "source": [
        "# Evaluate the Trained Model\n",
        "\n",
        "We can use the evaluate method on the testing data to see how well the model will generalize."
      ]
    },
    {
      "cell_type": "code",
      "execution_count": null,
      "metadata": {
        "id": "ENYxEKVkyTRW"
      },
      "outputs": [],
      "source": [
        "score = model1.evaluate(test_dataset, verbose=0)\n",
        "print(\"Test loss:\", score[0])\n",
        "print(\"Test accuracy:\", score[1])"
      ]
    },
    {
      "cell_type": "markdown",
      "metadata": {
        "id": "eOK0lQjeyTRW"
      },
      "source": [
        "# Using Callbacks\n",
        "\n",
        "When using the fit method, it is possible to assign **callbacks**, which perform certain opertions during the training process. You can find more about callbacks [here](https://keras.io/api/callbacks/) and [here](https://www.tensorflow.org/api_docs/python/tf/keras/callbacks).\n",
        "\n",
        "You will remember from the Python Lab 1 that we built a learning rate method that updated the learning rate during the training process. We can do the same thing in TensorFlow using the `LearningRateScheduler` callback.\n",
        "\n",
        "First, let's define the same learning rate schedule class that we used in the Python Lab 1."
      ]
    },
    {
      "cell_type": "code",
      "execution_count": null,
      "metadata": {
        "id": "FUhV9-85yTRW"
      },
      "outputs": [],
      "source": [
        "class lr_inc_dec:\n",
        "    def __init__(self, lr_0=0.001, lr_0_steps=5, lr_max = 0.005, lr_max_steps = 5, lr_min=0.0005, lr_decay=0.9):\n",
        "        self.lr_0         = lr_0\n",
        "        self.lr_max       = lr_max\n",
        "        self.lr_0_steps   = lr_0_steps\n",
        "        self.lr_max_steps = lr_max_steps\n",
        "        self.lr_min       = lr_min\n",
        "        self.lr_decay     = lr_decay\n",
        "\n",
        "    def __call__(self, epoch):\n",
        "        if epoch < self.lr_0_steps:\n",
        "            self.lr = self.lr_0 + (self.lr_max - self.lr_0)*epoch/self.lr_0_steps\n",
        "        elif epoch < self.lr_0_steps + self.lr_max_steps:\n",
        "            self.lr = self.lr_max\n",
        "        else:\n",
        "            self.lr = self.lr_min + (self.lr_max - self.lr_min)*self.lr_decay**(epoch - self.lr_0_steps - self.lr_max_steps)\n",
        "\n",
        "        return self.lr"
      ]
    },
    {
      "cell_type": "code",
      "execution_count": null,
      "metadata": {
        "id": "z3ajpvJOyTRX"
      },
      "outputs": [],
      "source": [
        "lr_scheduler = lr_inc_dec(lr_0=0.0005, lr_0_steps=10, lr_max = 0.002, lr_max_steps = 5, lr_min=0.001, lr_decay=0.95)"
      ]
    },
    {
      "cell_type": "markdown",
      "metadata": {
        "id": "WacNzqNByTRX"
      },
      "source": [
        "Now import the `LearningRateScheduler` from `tensorflow.keras.callbacks`."
      ]
    },
    {
      "cell_type": "code",
      "execution_count": null,
      "metadata": {
        "id": "p5AhxZcyyTRX"
      },
      "outputs": [],
      "source": [
        "from tensorflow.keras.callbacks import LearningRateScheduler"
      ]
    },
    {
      "cell_type": "markdown",
      "metadata": {
        "id": "5tzOi25IyTRX"
      },
      "source": [
        "To access the scheduler during training, we add the following argument to the fit method: `callbacks=[]`, where inside the braces is a list of callbacks. In this case, there is only one callback, which should be `LearningRateScheduler(lr_scheduler, verbose=1)`. Here we have passed the scheduler we defined into the `LearningRateScheduler`. By using `verbose=1`, we can monitor the progress of the learning rate during training.\n",
        "\n",
        "Make a new model."
      ]
    },
    {
      "cell_type": "code",
      "execution_count": null,
      "metadata": {
        "id": "0bDWbYN1yTRX"
      },
      "outputs": [],
      "source": [
        "model2 = make_model()"
      ]
    },
    {
      "cell_type": "markdown",
      "metadata": {
        "id": "VSn8CfDLyTRX"
      },
      "source": [
        "Compile the model, with the adam optimizer, categorical_crossentropy loss and accuracy metric."
      ]
    },
    {
      "cell_type": "code",
      "execution_count": null,
      "metadata": {
        "id": "srIRq_ocyTRX"
      },
      "outputs": [],
      "source": [
        "model2.compile(#TODO)"
      ]
    },
    {
      "cell_type": "markdown",
      "metadata": {
        "id": "y4KIDGStyTRX"
      },
      "source": [
        "Train the model with the `fit` method for 100 epochs, and use the `LearningRateScheduler` callback."
      ]
    },
    {
      "cell_type": "code",
      "execution_count": null,
      "metadata": {
        "scrolled": true,
        "id": "BadGEZBOyTRY"
      },
      "outputs": [],
      "source": [
        "history = model2.fit(#TODO)"
      ]
    },
    {
      "cell_type": "markdown",
      "metadata": {
        "id": "S7q028qZyTRY"
      },
      "source": [
        "Evaluate the new model on the test set."
      ]
    },
    {
      "cell_type": "code",
      "execution_count": null,
      "metadata": {
        "scrolled": true,
        "id": "6b5SO7HGyTRY"
      },
      "outputs": [],
      "source": [
        "score2 = model2.evaluate(test_dataset, verbose=0)\n",
        "print(\"Test loss:\", score2[0])\n",
        "print(\"Test accuracy:\", score2[1])"
      ]
    },
    {
      "cell_type": "markdown",
      "metadata": {
        "id": "mjrWeaUFyTRY"
      },
      "source": [
        "# Experimenting With Architectures\n",
        "\n",
        "Try different network architectures to see if you can improve the performance. To make this easier, modify the `make_model()` function so that you can vary the number of layers and the number of neurons in each layer. Pass a list into the function that has the number of neurons in each hidden layer. The last (`softmax`) layer always has 10 neurons."
      ]
    },
    {
      "cell_type": "code",
      "execution_count": null,
      "metadata": {
        "id": "hrsnu5FFyTRY"
      },
      "outputs": [],
      "source": [
        "def make_model(num_neurons):\n",
        "    #TODO\n",
        "    return model"
      ]
    },
    {
      "cell_type": "markdown",
      "metadata": {
        "id": "S2z68Y34yTRY"
      },
      "source": [
        "Make a network with five hidden layers of 10 neurons, compile it with the `adam` optimizer, `categorical_crossentropy` loss and `accuracy` metric. Then train it with the default learning rate (no callbacks) for 100 epochs."
      ]
    },
    {
      "cell_type": "code",
      "execution_count": null,
      "metadata": {
        "id": "r7T2TArQyTRY"
      },
      "outputs": [],
      "source": [
        "model3 = #TODO\n",
        "model3.compile(#TODO)\n",
        "history = model3.fit(#TODO)"
      ]
    },
    {
      "cell_type": "markdown",
      "metadata": {
        "id": "VWfGYFmmyTRY"
      },
      "source": [
        "Plot the training accuracy vs epochs."
      ]
    },
    {
      "cell_type": "code",
      "execution_count": null,
      "metadata": {
        "id": "rp-bnlAPyTRY"
      },
      "outputs": [],
      "source": [
        "history_dict = history.history\n",
        "acc = history_dict['accuracy']\n",
        "epochs = history.epoch\n",
        "plt.plot(epochs, acc)\n",
        "plt.title('Training Accuracy')\n",
        "plt.xlabel('Epochs')\n",
        "plt.show()"
      ]
    },
    {
      "cell_type": "markdown",
      "metadata": {
        "id": "JRFiKWyUyTRY"
      },
      "source": [
        "Based on your plot, do you think the accuracy will increase, if you  train the network longer?"
      ]
    },
    {
      "cell_type": "markdown",
      "metadata": {
        "id": "gT23P6e9yTRY"
      },
      "source": [
        "Now evaluate the model on the test set."
      ]
    },
    {
      "cell_type": "code",
      "execution_count": null,
      "metadata": {
        "id": "tyNfhC-tyTRY"
      },
      "outputs": [],
      "source": [
        "score3 = model3.evaluate(test_dataset, verbose=0)\n",
        "print(\"Test loss:\", score3[0])\n",
        "print(\"Test accuracy:\", score3[1])"
      ]
    },
    {
      "cell_type": "markdown",
      "metadata": {
        "id": "Tf8pFWyXyTRZ"
      },
      "source": [
        "How does the test accuracy compare to the training accuracy? Is the network overfitting, or can you improve the accuracy by adding neurons or layers to the network?"
      ]
    },
    {
      "cell_type": "markdown",
      "metadata": {
        "id": "KiHs66ujyTRZ"
      },
      "source": [
        "## Explore Further\n",
        "\n",
        "Experiment with different network architectures. Try to find the architecture that gives you the best accuracy. Investigate the following.\n",
        "\n",
        "1. Increase the number of neurons in each layer. How do training and testing accuracy change?\n",
        "1. Increase the number of layers. Does the training (testing) accuracy continue to decrease? How high can you make the testing accuracy? Do you get better results increasing the number of neurons in each layer, or the number of layers (assuming the overal number of weights stays the same)?\n",
        "1. Train a network twice without changing the architecture. (Be sure to remake the network each time.) Do you acheive the same accuracy? If not, explain why the accuracy is different.\n",
        "1. Experiment with different optimizers and different learning rates.\n",
        "1. Experiment with different batch sizes.\n",
        "1. Increase the number of epochs, and plot the training accuracy. Use the plot to determine whether or not you should  increase the number of epochs further."
      ]
    }
  ],
  "metadata": {
    "kernelspec": {
      "display_name": "Python 3",
      "language": "python",
      "name": "python3"
    },
    "language_info": {
      "codemirror_mode": {
        "name": "ipython",
        "version": 3
      },
      "file_extension": ".py",
      "mimetype": "text/x-python",
      "name": "python",
      "nbconvert_exporter": "python",
      "pygments_lexer": "ipython3",
      "version": "3.6.9"
    },
    "colab": {
      "provenance": []
    }
  },
  "nbformat": 4,
  "nbformat_minor": 0
}